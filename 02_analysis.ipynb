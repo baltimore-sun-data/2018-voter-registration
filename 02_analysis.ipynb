{
 "cells": [
  {
   "cell_type": "markdown",
   "metadata": {},
   "source": [
    "# Maryland voter registration analysis"
   ]
  },
  {
   "cell_type": "markdown",
   "metadata": {},
   "source": [
    "By [Christine Zhang](mailto:czhang@baltsun.com)"
   ]
  },
  {
   "cell_type": "markdown",
   "metadata": {},
   "source": [
    "The Baltimore Sun conducted an analysis of Maryland voter registration statistics from the state's Board of Elections.\n",
    "\n",
    "The analysis provided information for the October 15, 2018 Baltimore Sun story titled [\"Maryland nears record high voter registration — and independents make up the fastest-growing group\"](http://www.baltimoresun.com/news/maryland/politics/bs-md-2018-voter-registration-20181011-story.html).\n",
    "\n",
    "Here are the key findings of the data analysis, which is documented below and based on data from the Maryland State Board of Elections [Monthly Voter Registration Activity Reports](https://elections.maryland.gov/voter_registration/stats.html):\n",
    "\n",
    "- As September 30, 2018, 18 percent of voters were registered as \"unaffiliated.\"\n",
    "- The number of unaffiliated voters increased by 8 percent between September 2014 and September 2018.\n",
    "- Democrats and Republicans each saw 6 percent increases over the four-year period between September 2014 and September 2018.\n",
    "- Unaffiliated voters make up more than 20 percent of active, registered voters in eight Maryland counties.\n",
    "- There have been more recent increases in unaffiliated voters since 2016.\n",
    "- As September 30, 2018, the number of active, registered voters was 3,975,309 — just a couple thousand short of the state record of 3,977,637, set in January 2017.\n",
    "- Democrats continue to hold a 2-to-1 registration advantage over Republicans, making up slightly more than half of active, registered voters.\n",
    "- Like Republicans, Democrats saw a rise in registrations right before the 2016 presidential election."
   ]
  },
  {
   "cell_type": "markdown",
   "metadata": {},
   "source": [
    "## How we did it"
   ]
  },
  {
   "cell_type": "markdown",
   "metadata": {},
   "source": [
    "### Run `01_processing.ipynb`"
   ]
  },
  {
   "cell_type": "markdown",
   "metadata": {},
   "source": [
    "The Maryland State Board of Elections provides the Monthly Voter Registration Activity Reports as PDFs. \n",
    "\n",
    "Data was extracted from the January through September 2018 reports (September 2018 was the most recent data available at the time of publication), and from the September 2014 and September 2016 reports (for a point-in-time comparison of 2018 with the most recent election years), using [Tabula](https://tabula.technology/), an open-source tool \"for liberating data tables trapped inside PDF files.\"\n",
    "\n",
    "The `01_processing.ipynb` notebook contains code that was used to process and combine the files for each month and year into cleaned data files for analysis.\n",
    "\n",
    "The cleaned CSV files are in the `output/` folder:\n",
    "- `totals.csv`: total active registration, by county and party\n",
    "- `changes.csv`: voter registration changes, by county and change type (address or name, or changes from* a particular party)\n",
    "- `new.csv`: new registrations, by party and method of registration\n",
    "- `removals.csv`: removals from the registered voter list, by party and reason for removal\n",
    "\n",
    "Our story only uses the `totals.csv` file, but we have included the other files for completeness, so that others may conduct their own analyses.\n",
    "\n",
    "The files in the `input/` folder correspond exactly to the columns in the PDF reports. The PDFs for each month and year are in the `pdf/` folder, for reference.\n",
    "\n",
    "\\*The state does not track which party voters switched to."
   ]
  },
  {
   "cell_type": "markdown",
   "metadata": {},
   "source": [
    "### Import R data analysis libraries"
   ]
  },
  {
   "cell_type": "code",
   "execution_count": 1,
   "metadata": {},
   "outputs": [],
   "source": [
    "suppressMessages(library('tidyverse'))\n",
    "suppressMessages(library('lubridate'))\n",
    "suppressMessages(library('reshape2'))"
   ]
  },
  {
   "cell_type": "markdown",
   "metadata": {},
   "source": [
    "Read in the `totals.csv` data for analysis."
   ]
  },
  {
   "cell_type": "code",
   "execution_count": 2,
   "metadata": {},
   "outputs": [],
   "source": [
    "totals <- suppressMessages(read_csv('output/totals.csv'))"
   ]
  },
  {
   "cell_type": "markdown",
   "metadata": {},
   "source": [
    "Here are the first six rows:"
   ]
  },
  {
   "cell_type": "code",
   "execution_count": 3,
   "metadata": {},
   "outputs": [
    {
     "data": {
      "text/html": [
       "<table>\n",
       "<thead><tr><th scope=col>county</th><th scope=col>dem</th><th scope=col>rep</th><th scope=col>grn</th><th scope=col>lib</th><th scope=col>unaf</th><th scope=col>oth</th><th scope=col>total</th><th scope=col>date</th><th scope=col>conf.mailing</th><th scope=col>inactive</th><th scope=col>dem_perc</th><th scope=col>rep_perc</th><th scope=col>grn_perc</th><th scope=col>lib_perc</th><th scope=col>unaf_perc</th><th scope=col>oth_perc</th></tr></thead>\n",
       "<tbody>\n",
       "\t<tr><td>ALLEGANY      </td><td> 13864        </td><td> 21284        </td><td> 135          </td><td> 284          </td><td> 7117         </td><td> 302          </td><td> 42986        </td><td>2018-01-31    </td><td> 234          </td><td> 2981         </td><td>32.25236      </td><td>49.513795     </td><td>0.3140557     </td><td>0.6606802     </td><td>16.55655      </td><td>0.7025543     </td></tr>\n",
       "\t<tr><td>ANNE ARUNDEL  </td><td>159780        </td><td>134468        </td><td> 832          </td><td>2708          </td><td>82760         </td><td>1223          </td><td>381771        </td><td>2018-01-31    </td><td>4660          </td><td>21399         </td><td>41.85231      </td><td>35.222162     </td><td>0.2179317     </td><td>0.7093257     </td><td>21.67792      </td><td>0.3203491     </td></tr>\n",
       "\t<tr><td>BALTIMORE CITY</td><td>301200        </td><td> 31039        </td><td>1264          </td><td>1416          </td><td>45782         </td><td>1658          </td><td>382359        </td><td>2018-01-31    </td><td>5347          </td><td>27109         </td><td>78.77414      </td><td> 8.117764     </td><td>0.3305794     </td><td>0.3703326     </td><td>11.97356      </td><td>0.4336239     </td></tr>\n",
       "\t<tr><td>BALTIMORE CO. </td><td>305849        </td><td>142241        </td><td>1449          </td><td>3096          </td><td>90743         </td><td>4448          </td><td>547826        </td><td>2018-01-31    </td><td>6215          </td><td>28367         </td><td>55.82959      </td><td>25.964631     </td><td>0.2645000     </td><td>0.5651429     </td><td>16.56420      </td><td>0.8119366     </td></tr>\n",
       "\t<tr><td>CALVERT       </td><td> 23607        </td><td> 26554        </td><td> 136          </td><td> 489          </td><td>13265         </td><td> 393          </td><td> 64444        </td><td>2018-01-31    </td><td>2012          </td><td> 4291         </td><td>36.63180      </td><td>41.204767     </td><td>0.2110359     </td><td>0.7587983     </td><td>20.58376      </td><td>0.6098318     </td></tr>\n",
       "\t<tr><td>CAROLINE      </td><td>  6853        </td><td>  9156        </td><td>  29          </td><td> 107          </td><td> 3821         </td><td> 117          </td><td> 20083        </td><td>2018-01-31    </td><td>  98          </td><td> 1039         </td><td>34.12339      </td><td>45.590798     </td><td>0.1444007     </td><td>0.5327889     </td><td>19.02604      </td><td>0.5825823     </td></tr>\n",
       "</tbody>\n",
       "</table>\n"
      ],
      "text/latex": [
       "\\begin{tabular}{r|lllllllllllllllll}\n",
       " county & dem & rep & grn & lib & unaf & oth & total & date & conf.mailing & inactive & dem\\_perc & rep\\_perc & grn\\_perc & lib\\_perc & unaf\\_perc & oth\\_perc\\\\\n",
       "\\hline\n",
       "\t ALLEGANY       &  13864         &  21284         &  135           &  284           &  7117          &  302           &  42986         & 2018-01-31     &  234           &  2981          & 32.25236       & 49.513795      & 0.3140557      & 0.6606802      & 16.55655       & 0.7025543     \\\\\n",
       "\t ANNE ARUNDEL   & 159780         & 134468         &  832           & 2708           & 82760          & 1223           & 381771         & 2018-01-31     & 4660           & 21399          & 41.85231       & 35.222162      & 0.2179317      & 0.7093257      & 21.67792       & 0.3203491     \\\\\n",
       "\t BALTIMORE CITY & 301200         &  31039         & 1264           & 1416           & 45782          & 1658           & 382359         & 2018-01-31     & 5347           & 27109          & 78.77414       &  8.117764      & 0.3305794      & 0.3703326      & 11.97356       & 0.4336239     \\\\\n",
       "\t BALTIMORE CO.  & 305849         & 142241         & 1449           & 3096           & 90743          & 4448           & 547826         & 2018-01-31     & 6215           & 28367          & 55.82959       & 25.964631      & 0.2645000      & 0.5651429      & 16.56420       & 0.8119366     \\\\\n",
       "\t CALVERT        &  23607         &  26554         &  136           &  489           & 13265          &  393           &  64444         & 2018-01-31     & 2012           &  4291          & 36.63180       & 41.204767      & 0.2110359      & 0.7587983      & 20.58376       & 0.6098318     \\\\\n",
       "\t CAROLINE       &   6853         &   9156         &   29           &  107           &  3821          &  117           &  20083         & 2018-01-31     &   98           &  1039          & 34.12339       & 45.590798      & 0.1444007      & 0.5327889      & 19.02604       & 0.5825823     \\\\\n",
       "\\end{tabular}\n"
      ],
      "text/markdown": [
       "\n",
       "county | dem | rep | grn | lib | unaf | oth | total | date | conf.mailing | inactive | dem_perc | rep_perc | grn_perc | lib_perc | unaf_perc | oth_perc | \n",
       "|---|---|---|---|---|---|\n",
       "| ALLEGANY       |  13864         |  21284         |  135           |  284           |  7117          |  302           |  42986         | 2018-01-31     |  234           |  2981          | 32.25236       | 49.513795      | 0.3140557      | 0.6606802      | 16.55655       | 0.7025543      | \n",
       "| ANNE ARUNDEL   | 159780         | 134468         |  832           | 2708           | 82760          | 1223           | 381771         | 2018-01-31     | 4660           | 21399          | 41.85231       | 35.222162      | 0.2179317      | 0.7093257      | 21.67792       | 0.3203491      | \n",
       "| BALTIMORE CITY | 301200         |  31039         | 1264           | 1416           | 45782          | 1658           | 382359         | 2018-01-31     | 5347           | 27109          | 78.77414       |  8.117764      | 0.3305794      | 0.3703326      | 11.97356       | 0.4336239      | \n",
       "| BALTIMORE CO.  | 305849         | 142241         | 1449           | 3096           | 90743          | 4448           | 547826         | 2018-01-31     | 6215           | 28367          | 55.82959       | 25.964631      | 0.2645000      | 0.5651429      | 16.56420       | 0.8119366      | \n",
       "| CALVERT        |  23607         |  26554         |  136           |  489           | 13265          |  393           |  64444         | 2018-01-31     | 2012           |  4291          | 36.63180       | 41.204767      | 0.2110359      | 0.7587983      | 20.58376       | 0.6098318      | \n",
       "| CAROLINE       |   6853         |   9156         |   29           |  107           |  3821          |  117           |  20083         | 2018-01-31     |   98           |  1039          | 34.12339       | 45.590798      | 0.1444007      | 0.5327889      | 19.02604       | 0.5825823      | \n",
       "\n",
       "\n"
      ],
      "text/plain": [
       "  county         dem    rep    grn  lib  unaf  oth  total  date      \n",
       "1 ALLEGANY        13864  21284  135  284  7117  302  42986 2018-01-31\n",
       "2 ANNE ARUNDEL   159780 134468  832 2708 82760 1223 381771 2018-01-31\n",
       "3 BALTIMORE CITY 301200  31039 1264 1416 45782 1658 382359 2018-01-31\n",
       "4 BALTIMORE CO.  305849 142241 1449 3096 90743 4448 547826 2018-01-31\n",
       "5 CALVERT         23607  26554  136  489 13265  393  64444 2018-01-31\n",
       "6 CAROLINE         6853   9156   29  107  3821  117  20083 2018-01-31\n",
       "  conf.mailing inactive dem_perc rep_perc  grn_perc  lib_perc  unaf_perc\n",
       "1  234          2981    32.25236 49.513795 0.3140557 0.6606802 16.55655 \n",
       "2 4660         21399    41.85231 35.222162 0.2179317 0.7093257 21.67792 \n",
       "3 5347         27109    78.77414  8.117764 0.3305794 0.3703326 11.97356 \n",
       "4 6215         28367    55.82959 25.964631 0.2645000 0.5651429 16.56420 \n",
       "5 2012          4291    36.63180 41.204767 0.2110359 0.7587983 20.58376 \n",
       "6   98          1039    34.12339 45.590798 0.1444007 0.5327889 19.02604 \n",
       "  oth_perc \n",
       "1 0.7025543\n",
       "2 0.3203491\n",
       "3 0.4336239\n",
       "4 0.8119366\n",
       "5 0.6098318\n",
       "6 0.5825823"
      ]
     },
     "metadata": {},
     "output_type": "display_data"
    }
   ],
   "source": [
    "head(totals)"
   ]
  },
  {
   "cell_type": "markdown",
   "metadata": {},
   "source": [
    "### Finding: As September 30, 2018, 18 percent of voters were registered as \"unaffiliated.\""
   ]
  },
  {
   "cell_type": "markdown",
   "metadata": {},
   "source": [
    "Filter the `totals` dataframe to include county totals for September 30, 2018. The `unaf_perc` column provides the percent of active, registered voters who were \"unaffiliated.\""
   ]
  },
  {
   "cell_type": "code",
   "execution_count": 4,
   "metadata": {},
   "outputs": [
    {
     "data": {
      "text/html": [
       "<table>\n",
       "<thead><tr><th scope=col>unaf_perc</th></tr></thead>\n",
       "<tbody>\n",
       "\t<tr><td>18.04056</td></tr>\n",
       "</tbody>\n",
       "</table>\n"
      ],
      "text/latex": [
       "\\begin{tabular}{r|l}\n",
       " unaf\\_perc\\\\\n",
       "\\hline\n",
       "\t 18.04056\\\\\n",
       "\\end{tabular}\n"
      ],
      "text/markdown": [
       "\n",
       "unaf_perc | \n",
       "|---|\n",
       "| 18.04056 | \n",
       "\n",
       "\n"
      ],
      "text/plain": [
       "  unaf_perc\n",
       "1 18.04056 "
      ]
     },
     "metadata": {},
     "output_type": "display_data"
    }
   ],
   "source": [
    "totals %>% filter(county == 'Total' & date == '2018-09-30') %>% select(unaf_perc)"
   ]
  },
  {
   "cell_type": "code",
   "execution_count": 5,
   "metadata": {},
   "outputs": [
    {
     "name": "stdout",
     "output_type": "stream",
     "text": [
      "[1] \"As September 30, 2018, 18 percent of voters were registered as unaffiliated.\"\n"
     ]
    }
   ],
   "source": [
    "print(paste(\"As September 30, 2018,\", \n",
    "            trunc(totals %>% filter(county == 'Total' & date == '2018-09-30') %>% select(unaf_perc)),\n",
    "            \"percent of voters were registered as unaffiliated.\"))"
   ]
  },
  {
   "cell_type": "markdown",
   "metadata": {},
   "source": [
    "### Finding: The number of unaffiliated voters increased by 8 percent between September 2014 and September 2018."
   ]
  },
  {
   "cell_type": "markdown",
   "metadata": {},
   "source": [
    "Create a dataframe, `totals.pch`, which consists of the percent change between 2014 and 2018 (`pch_14_*`) as well as the percent change between 2016 and 2018 for each party (`pch_16_*`). Other parties (not Democrat or Republican) are combined into `other`."
   ]
  },
  {
   "cell_type": "code",
   "execution_count": 6,
   "metadata": {},
   "outputs": [],
   "source": [
    "totals.pch <- totals %>% mutate(other_perc = grn_perc + lib_perc + oth_perc, \n",
    "                                other = grn + lib + oth) %>% \n",
    "                         select(-grn_perc, -lib_perc, -oth_perc) %>%\n",
    "                         group_by(county) %>% \n",
    "                         filter(date == '2014-09-30' | \n",
    "                                date == '2016-09-30' | \n",
    "                                date == '2018-09-30') %>% \n",
    "                         arrange(county, date) %>% \n",
    "                         mutate(pch_16_dem = (dem/lag(dem) - 1) * 100, \n",
    "                                pch_16_rep = (rep/lag(rep) - 1) * 100, \n",
    "                                pch_16_unaf = (unaf/lag(unaf) - 1) * 100,\n",
    "                                pch_16_other = (other/lag(other) - 1) * 100,\n",
    "                                pch_14_dem = (dem/lag(dem, 2) - 1) * 100, \n",
    "                                pch_14_rep = (rep/lag(rep, 2) - 1) * 100, \n",
    "                                pch_14_unaf = (unaf/lag(unaf, 2) - 1) * 100,\n",
    "                                pch_14_other = (other/lag(other, 2) - 1) * 100) %>% \n",
    "  filter(date == '2018-09-30') %>%\n",
    "  ungroup() %>%\n",
    "  select(-conf.mailing, -inactive)"
   ]
  },
  {
   "cell_type": "markdown",
   "metadata": {},
   "source": [
    "The `pch_14_unaf` column provides the percent chnage in active, registered unaffiliated voters between 2014 and 2018. For the story, we chose to compare 2018 to 2014, since that was the year of the last midterm elections."
   ]
  },
  {
   "cell_type": "code",
   "execution_count": 7,
   "metadata": {
    "scrolled": false
   },
   "outputs": [
    {
     "data": {
      "text/html": [
       "<table>\n",
       "<thead><tr><th scope=col>pch_14_unaf</th></tr></thead>\n",
       "<tbody>\n",
       "\t<tr><td>8.17601</td></tr>\n",
       "</tbody>\n",
       "</table>\n"
      ],
      "text/latex": [
       "\\begin{tabular}{r|l}\n",
       " pch\\_14\\_unaf\\\\\n",
       "\\hline\n",
       "\t 8.17601\\\\\n",
       "\\end{tabular}\n"
      ],
      "text/markdown": [
       "\n",
       "pch_14_unaf | \n",
       "|---|\n",
       "| 8.17601 | \n",
       "\n",
       "\n"
      ],
      "text/plain": [
       "  pch_14_unaf\n",
       "1 8.17601    "
      ]
     },
     "metadata": {},
     "output_type": "display_data"
    }
   ],
   "source": [
    "totals.pch %>% filter(county == 'Total') %>% select(pch_14_unaf)"
   ]
  },
  {
   "cell_type": "code",
   "execution_count": 8,
   "metadata": {},
   "outputs": [
    {
     "name": "stdout",
     "output_type": "stream",
     "text": [
      "[1] \"The number of unaffiliated voters increased by 8 percent between September 2014 and September 2018.\"\n"
     ]
    }
   ],
   "source": [
    "print(paste(\"The number of unaffiliated voters increased by\", \n",
    "            trunc(totals.pch %>% filter(county == 'Total') %>% select(pch_14_unaf)),\n",
    "            \"percent between September 2014 and September 2018.\"))"
   ]
  },
  {
   "cell_type": "markdown",
   "metadata": {},
   "source": [
    "### Finding: Democrats and Republicans each saw 6 percent increases over the four-year period between September 2014 and September 2018."
   ]
  },
  {
   "cell_type": "markdown",
   "metadata": {},
   "source": [
    "The `pch_14_dem` and `pch_14_rep` columns provide the percent chnage in active, registered Democratic and Republican voters between 2014 and 2018. For the story, we chose to compare 2018 to 2014, since that was the year of the last midterm elections."
   ]
  },
  {
   "cell_type": "code",
   "execution_count": 9,
   "metadata": {},
   "outputs": [
    {
     "data": {
      "text/html": [
       "<table>\n",
       "<thead><tr><th scope=col>pch_14_dem</th><th scope=col>pch_14_rep</th></tr></thead>\n",
       "<tbody>\n",
       "\t<tr><td>6.646361</td><td>6.358201</td></tr>\n",
       "</tbody>\n",
       "</table>\n"
      ],
      "text/latex": [
       "\\begin{tabular}{r|ll}\n",
       " pch\\_14\\_dem & pch\\_14\\_rep\\\\\n",
       "\\hline\n",
       "\t 6.646361 & 6.358201\\\\\n",
       "\\end{tabular}\n"
      ],
      "text/markdown": [
       "\n",
       "pch_14_dem | pch_14_rep | \n",
       "|---|\n",
       "| 6.646361 | 6.358201 | \n",
       "\n",
       "\n"
      ],
      "text/plain": [
       "  pch_14_dem pch_14_rep\n",
       "1 6.646361   6.358201  "
      ]
     },
     "metadata": {},
     "output_type": "display_data"
    }
   ],
   "source": [
    "totals.pch %>% filter(county == 'Total') %>% select(pch_14_dem, pch_14_rep)"
   ]
  },
  {
   "cell_type": "code",
   "execution_count": 10,
   "metadata": {},
   "outputs": [
    {
     "name": "stdout",
     "output_type": "stream",
     "text": [
      "[1] \"The number of Democratic voters increased by 6 percent between September 2014 and September 2018.\"\n",
      "[1] \"The number of Republican voters increased by 6 percent between September 2014 and September 2018.\"\n"
     ]
    }
   ],
   "source": [
    "print(paste(\"The number of Democratic voters increased by\", \n",
    "            trunc(totals.pch %>% filter(county == 'Total') %>% select(pch_14_dem)),\n",
    "            \"percent between September 2014 and September 2018.\"))\n",
    "\n",
    "print(paste(\"The number of Republican voters increased by\", \n",
    "            trunc(totals.pch %>% filter(county == 'Total') %>% select(pch_14_rep)),\n",
    "            \"percent between September 2014 and September 2018.\"))"
   ]
  },
  {
   "cell_type": "markdown",
   "metadata": {},
   "source": [
    "### Finding: Unaffiliated voters make up more than 20 percent of active, registered voters in eight Maryland counties."
   ]
  },
  {
   "cell_type": "markdown",
   "metadata": {},
   "source": [
    "Filter the `totals` dataframe to include counties with more than 20 percent of registered unaffiliateds as of September 30, 2018. These are the eight counties:"
   ]
  },
  {
   "cell_type": "code",
   "execution_count": 11,
   "metadata": {},
   "outputs": [
    {
     "data": {
      "text/html": [
       "<table>\n",
       "<thead><tr><th scope=col>row_number</th><th scope=col>county</th><th scope=col>unaf_perc</th></tr></thead>\n",
       "<tbody>\n",
       "\t<tr><td>1           </td><td>FREDERICK   </td><td>22.85382    </td></tr>\n",
       "\t<tr><td>2           </td><td>HOWARD      </td><td>22.51406    </td></tr>\n",
       "\t<tr><td>3           </td><td>CECIL       </td><td>22.01056    </td></tr>\n",
       "\t<tr><td>4           </td><td>MONTGOMERY  </td><td>21.93508    </td></tr>\n",
       "\t<tr><td>5           </td><td>ANNE ARUNDEL</td><td>21.77415    </td></tr>\n",
       "\t<tr><td>6           </td><td>ST. MARY'S  </td><td>20.58683    </td></tr>\n",
       "\t<tr><td>7           </td><td>CALVERT     </td><td>20.49780    </td></tr>\n",
       "\t<tr><td>8           </td><td>WASHINGTON  </td><td>20.32497    </td></tr>\n",
       "</tbody>\n",
       "</table>\n"
      ],
      "text/latex": [
       "\\begin{tabular}{r|lll}\n",
       " row\\_number & county & unaf\\_perc\\\\\n",
       "\\hline\n",
       "\t 1            & FREDERICK    & 22.85382    \\\\\n",
       "\t 2            & HOWARD       & 22.51406    \\\\\n",
       "\t 3            & CECIL        & 22.01056    \\\\\n",
       "\t 4            & MONTGOMERY   & 21.93508    \\\\\n",
       "\t 5            & ANNE ARUNDEL & 21.77415    \\\\\n",
       "\t 6            & ST. MARY'S   & 20.58683    \\\\\n",
       "\t 7            & CALVERT      & 20.49780    \\\\\n",
       "\t 8            & WASHINGTON   & 20.32497    \\\\\n",
       "\\end{tabular}\n"
      ],
      "text/markdown": [
       "\n",
       "row_number | county | unaf_perc | \n",
       "|---|---|---|---|---|---|---|---|\n",
       "| 1            | FREDERICK    | 22.85382     | \n",
       "| 2            | HOWARD       | 22.51406     | \n",
       "| 3            | CECIL        | 22.01056     | \n",
       "| 4            | MONTGOMERY   | 21.93508     | \n",
       "| 5            | ANNE ARUNDEL | 21.77415     | \n",
       "| 6            | ST. MARY'S   | 20.58683     | \n",
       "| 7            | CALVERT      | 20.49780     | \n",
       "| 8            | WASHINGTON   | 20.32497     | \n",
       "\n",
       "\n"
      ],
      "text/plain": [
       "  row_number county       unaf_perc\n",
       "1 1          FREDERICK    22.85382 \n",
       "2 2          HOWARD       22.51406 \n",
       "3 3          CECIL        22.01056 \n",
       "4 4          MONTGOMERY   21.93508 \n",
       "5 5          ANNE ARUNDEL 21.77415 \n",
       "6 6          ST. MARY'S   20.58683 \n",
       "7 7          CALVERT      20.49780 \n",
       "8 8          WASHINGTON   20.32497 "
      ]
     },
     "metadata": {},
     "output_type": "display_data"
    }
   ],
   "source": [
    "totals %>% filter(date == '2018-09-30' & unaf_perc > 20) %>% \n",
    "           arrange(desc(unaf_perc)) %>% mutate(row_number = row_number()) %>% select(row_number, county, unaf_perc)"
   ]
  },
  {
   "cell_type": "markdown",
   "metadata": {},
   "source": [
    "### Finding: There have been more recent increases in unaffiliated voters since 2016."
   ]
  },
  {
   "cell_type": "markdown",
   "metadata": {},
   "source": [
    "For the story, we chose to compare 2018 to 2014, since that was the year of the last midterm elections. However, we can also compare 2018 with the most recent presidential election year, 2016. The `pch_16_unaf`, `pch_16_dem` and `pch_16_rep` columns in the `totals.pch` dataframe provide the percent chnage in active, registered unaffiliated, Democratic and Republican voters between 2014 and 2018. "
   ]
  },
  {
   "cell_type": "code",
   "execution_count": 12,
   "metadata": {},
   "outputs": [
    {
     "data": {
      "text/html": [
       "<table>\n",
       "<thead><tr><th scope=col>pch_16_unaf</th><th scope=col>pch_16_dem</th><th scope=col>pch_16_rep</th></tr></thead>\n",
       "<tbody>\n",
       "\t<tr><td>5.635676  </td><td>1.824224  </td><td>0.06177157</td></tr>\n",
       "</tbody>\n",
       "</table>\n"
      ],
      "text/latex": [
       "\\begin{tabular}{r|lll}\n",
       " pch\\_16\\_unaf & pch\\_16\\_dem & pch\\_16\\_rep\\\\\n",
       "\\hline\n",
       "\t 5.635676   & 1.824224   & 0.06177157\\\\\n",
       "\\end{tabular}\n"
      ],
      "text/markdown": [
       "\n",
       "pch_16_unaf | pch_16_dem | pch_16_rep | \n",
       "|---|\n",
       "| 5.635676   | 1.824224   | 0.06177157 | \n",
       "\n",
       "\n"
      ],
      "text/plain": [
       "  pch_16_unaf pch_16_dem pch_16_rep\n",
       "1 5.635676    1.824224   0.06177157"
      ]
     },
     "metadata": {},
     "output_type": "display_data"
    }
   ],
   "source": [
    "totals.pch %>% filter(county == 'Total') %>% select(pch_16_unaf, pch_16_dem, pch_16_rep)"
   ]
  },
  {
   "cell_type": "markdown",
   "metadata": {},
   "source": [
    "Increases in unaffiliated registered voters have outpaced that of Democrats and Republicans since 2016."
   ]
  },
  {
   "cell_type": "markdown",
   "metadata": {},
   "source": [
    "### As September 30, 2018, the number of active, registered voters was 3,975,309 — just a couple thousand short of the state record of 3,977,637, set in January 2017."
   ]
  },
  {
   "cell_type": "markdown",
   "metadata": {},
   "source": [
    "Filter the data to include the total number of active, registered voters as of September 30, 2018."
   ]
  },
  {
   "cell_type": "code",
   "execution_count": 13,
   "metadata": {},
   "outputs": [
    {
     "data": {
      "text/html": [
       "<table>\n",
       "<thead><tr><th scope=col>total</th></tr></thead>\n",
       "<tbody>\n",
       "\t<tr><td>3975309</td></tr>\n",
       "</tbody>\n",
       "</table>\n"
      ],
      "text/latex": [
       "\\begin{tabular}{r|l}\n",
       " total\\\\\n",
       "\\hline\n",
       "\t 3975309\\\\\n",
       "\\end{tabular}\n"
      ],
      "text/markdown": [
       "\n",
       "total | \n",
       "|---|\n",
       "| 3975309 | \n",
       "\n",
       "\n"
      ],
      "text/plain": [
       "  total  \n",
       "1 3975309"
      ]
     },
     "metadata": {},
     "output_type": "display_data"
    }
   ],
   "source": [
    "totals %>% filter(county == 'Total' & date == '2018-09-30') %>% select(total)"
   ]
  },
  {
   "cell_type": "markdown",
   "metadata": {},
   "source": [
    "The record high number of 3,977,637 for January 31, 2017 was obtained by reviewing the State Board of Election Monthly Voter Registration Activity Reports: https://elections.maryland.gov/voter_registration/stats.html."
   ]
  },
  {
   "cell_type": "markdown",
   "metadata": {},
   "source": [
    "### Finding: Democrats continue to hold a 2-to-1 registration advantage over Republicans, making up slightly more than half of active, registered voters."
   ]
  },
  {
   "cell_type": "markdown",
   "metadata": {},
   "source": [
    "Create a column, `dem_rep_ratio`, that represents the ratio of Democrats to Republicans in terms of active, registered voters."
   ]
  },
  {
   "cell_type": "code",
   "execution_count": 14,
   "metadata": {},
   "outputs": [],
   "source": [
    "totals <- totals %>% mutate(dem_rep_ratio = dem/rep)"
   ]
  },
  {
   "cell_type": "markdown",
   "metadata": {},
   "source": [
    "Filter to the total for all counties:"
   ]
  },
  {
   "cell_type": "code",
   "execution_count": 15,
   "metadata": {},
   "outputs": [
    {
     "data": {
      "text/html": [
       "<table>\n",
       "<thead><tr><th scope=col>date</th><th scope=col>dem_rep_ratio</th><th scope=col>dem</th><th scope=col>rep</th></tr></thead>\n",
       "<tbody>\n",
       "\t<tr><td>2014-09-30</td><td>2.139903  </td><td>2043479   </td><td> 954940   </td></tr>\n",
       "\t<tr><td>2016-09-30</td><td>2.108561  </td><td>2140253   </td><td>1015030   </td></tr>\n",
       "\t<tr><td>2018-01-31</td><td>2.120768  </td><td>2133813   </td><td>1006151   </td></tr>\n",
       "\t<tr><td>2018-02-28</td><td>2.121533  </td><td>2134776   </td><td>1006242   </td></tr>\n",
       "\t<tr><td>2018-03-31</td><td>2.124091  </td><td>2136893   </td><td>1006027   </td></tr>\n",
       "\t<tr><td>2018-04-30</td><td>2.126237  </td><td>2141975   </td><td>1007402   </td></tr>\n",
       "\t<tr><td>2018-05-30</td><td>2.129083  </td><td>2149873   </td><td>1009765   </td></tr>\n",
       "\t<tr><td>2018-06-30</td><td>2.133123  </td><td>2155862   </td><td>1010660   </td></tr>\n",
       "\t<tr><td>2018-07-31</td><td>2.137281  </td><td>2160753   </td><td>1010982   </td></tr>\n",
       "\t<tr><td>2018-08-30</td><td>2.142831  </td><td>2169094   </td><td>1012256   </td></tr>\n",
       "\t<tr><td>2018-09-30</td><td>2.145701  </td><td>2179296   </td><td>1015657   </td></tr>\n",
       "</tbody>\n",
       "</table>\n"
      ],
      "text/latex": [
       "\\begin{tabular}{r|llll}\n",
       " date & dem\\_rep\\_ratio & dem & rep\\\\\n",
       "\\hline\n",
       "\t 2014-09-30 & 2.139903   & 2043479    &  954940   \\\\\n",
       "\t 2016-09-30 & 2.108561   & 2140253    & 1015030   \\\\\n",
       "\t 2018-01-31 & 2.120768   & 2133813    & 1006151   \\\\\n",
       "\t 2018-02-28 & 2.121533   & 2134776    & 1006242   \\\\\n",
       "\t 2018-03-31 & 2.124091   & 2136893    & 1006027   \\\\\n",
       "\t 2018-04-30 & 2.126237   & 2141975    & 1007402   \\\\\n",
       "\t 2018-05-30 & 2.129083   & 2149873    & 1009765   \\\\\n",
       "\t 2018-06-30 & 2.133123   & 2155862    & 1010660   \\\\\n",
       "\t 2018-07-31 & 2.137281   & 2160753    & 1010982   \\\\\n",
       "\t 2018-08-30 & 2.142831   & 2169094    & 1012256   \\\\\n",
       "\t 2018-09-30 & 2.145701   & 2179296    & 1015657   \\\\\n",
       "\\end{tabular}\n"
      ],
      "text/markdown": [
       "\n",
       "date | dem_rep_ratio | dem | rep | \n",
       "|---|---|---|---|---|---|---|---|---|---|---|\n",
       "| 2014-09-30 | 2.139903   | 2043479    |  954940    | \n",
       "| 2016-09-30 | 2.108561   | 2140253    | 1015030    | \n",
       "| 2018-01-31 | 2.120768   | 2133813    | 1006151    | \n",
       "| 2018-02-28 | 2.121533   | 2134776    | 1006242    | \n",
       "| 2018-03-31 | 2.124091   | 2136893    | 1006027    | \n",
       "| 2018-04-30 | 2.126237   | 2141975    | 1007402    | \n",
       "| 2018-05-30 | 2.129083   | 2149873    | 1009765    | \n",
       "| 2018-06-30 | 2.133123   | 2155862    | 1010660    | \n",
       "| 2018-07-31 | 2.137281   | 2160753    | 1010982    | \n",
       "| 2018-08-30 | 2.142831   | 2169094    | 1012256    | \n",
       "| 2018-09-30 | 2.145701   | 2179296    | 1015657    | \n",
       "\n",
       "\n"
      ],
      "text/plain": [
       "   date       dem_rep_ratio dem     rep    \n",
       "1  2014-09-30 2.139903      2043479  954940\n",
       "2  2016-09-30 2.108561      2140253 1015030\n",
       "3  2018-01-31 2.120768      2133813 1006151\n",
       "4  2018-02-28 2.121533      2134776 1006242\n",
       "5  2018-03-31 2.124091      2136893 1006027\n",
       "6  2018-04-30 2.126237      2141975 1007402\n",
       "7  2018-05-30 2.129083      2149873 1009765\n",
       "8  2018-06-30 2.133123      2155862 1010660\n",
       "9  2018-07-31 2.137281      2160753 1010982\n",
       "10 2018-08-30 2.142831      2169094 1012256\n",
       "11 2018-09-30 2.145701      2179296 1015657"
      ]
     },
     "metadata": {},
     "output_type": "display_data"
    }
   ],
   "source": [
    "totals %>% filter(county == 'Total') %>% select(date, dem_rep_ratio, dem, rep) %>% \n",
    "           arrange(date)"
   ]
  },
  {
   "cell_type": "markdown",
   "metadata": {},
   "source": [
    "The ratio of active, registered Democrats to active, registered Republicans as of September 30, 2018 is around 2:1. This has been the case since at least September 2014."
   ]
  },
  {
   "cell_type": "markdown",
   "metadata": {},
   "source": [
    "### Finding: Like Republicans, Democrats saw a rise in registrations right before the 2016 presidential election."
   ]
  },
  {
   "cell_type": "markdown",
   "metadata": {},
   "source": [
    "The `historical_registration.csv` file in the `output` folder contains voter registration totals for the months of January and September between 2000 and 2018. These were obtained from the State Board of Election Monthly Voter Registration Activity Reports for those months and years: https://elections.maryland.gov/voter_registration/stats.html, and the `source` column in the CSV provides links to the individual PDF reports."
   ]
  },
  {
   "cell_type": "code",
   "execution_count": 16,
   "metadata": {},
   "outputs": [],
   "source": [
    "historical <- suppressMessages(read_csv(\"output/historical_registration.csv\"))"
   ]
  },
  {
   "cell_type": "markdown",
   "metadata": {},
   "source": [
    "Create a column, `party2`, which combines party categories other than Democrat, Republican and unaffiliated into a single category called \"other.\" Note that the third parties recognized by the state have changed over the years. Also note that in 2000 and January 2001, unaffiliated voters were not placed into their own category (`dec/oth` refers to voters who declined to register with a party as well as voters who specfied other parties)."
   ]
  },
  {
   "cell_type": "code",
   "execution_count": 17,
   "metadata": {},
   "outputs": [],
   "source": [
    "historical <- historical %>% mutate(date = mdy(date), \n",
    "                                    party2 = case_when(party == 'dem' ~ 'dem',\n",
    "                                                       party == 'rep' ~ 'rep',\n",
    "                                                       party == 'unaf' ~ 'unaf',\n",
    "                                                       party == 'total' ~ 'total',\n",
    "                                                       TRUE ~ 'other'))"
   ]
  },
  {
   "cell_type": "markdown",
   "metadata": {},
   "source": [
    "Calculate the percent change between the Septembers of each year."
   ]
  },
  {
   "cell_type": "code",
   "execution_count": 18,
   "metadata": {
    "scrolled": false
   },
   "outputs": [],
   "source": [
    "historical.pch <- historical %>% filter(month == 'September') %>% group_by(date, party2) %>%\n",
    "               summarise(n = sum(number)) %>% ungroup() %>% \n",
    "               arrange(party2, date) %>% group_by(party2) %>%\n",
    "               mutate(pch = (n/lag(n) - 1) * 100)"
   ]
  },
  {
   "cell_type": "markdown",
   "metadata": {},
   "source": [
    "The `pch` column for `date == 2016-09-30` represents the percent change in active, registered voters by party between September 30, 2015 and September 30, 2016."
   ]
  },
  {
   "cell_type": "code",
   "execution_count": 19,
   "metadata": {},
   "outputs": [
    {
     "data": {
      "text/html": [
       "<table>\n",
       "<thead><tr><th scope=col>date</th><th scope=col>party2</th><th scope=col>n</th><th scope=col>pch</th></tr></thead>\n",
       "<tbody>\n",
       "\t<tr><td>2016-09-30</td><td>dem       </td><td>2140253   </td><td> 5.9426294</td></tr>\n",
       "\t<tr><td>2016-09-30</td><td>other     </td><td>  58136   </td><td> 2.3683330</td></tr>\n",
       "\t<tr><td>2016-09-30</td><td>rep       </td><td>1015030   </td><td> 5.7729481</td></tr>\n",
       "\t<tr><td>2016-09-30</td><td>total     </td><td>3892326   </td><td> 4.6459502</td></tr>\n",
       "\t<tr><td>2016-09-30</td><td>unaf      </td><td> 678907   </td><td>-0.5842755</td></tr>\n",
       "</tbody>\n",
       "</table>\n"
      ],
      "text/latex": [
       "\\begin{tabular}{r|llll}\n",
       " date & party2 & n & pch\\\\\n",
       "\\hline\n",
       "\t 2016-09-30 & dem        & 2140253    &  5.9426294\\\\\n",
       "\t 2016-09-30 & other      &   58136    &  2.3683330\\\\\n",
       "\t 2016-09-30 & rep        & 1015030    &  5.7729481\\\\\n",
       "\t 2016-09-30 & total      & 3892326    &  4.6459502\\\\\n",
       "\t 2016-09-30 & unaf       &  678907    & -0.5842755\\\\\n",
       "\\end{tabular}\n"
      ],
      "text/markdown": [
       "\n",
       "date | party2 | n | pch | \n",
       "|---|---|---|---|---|\n",
       "| 2016-09-30 | dem        | 2140253    |  5.9426294 | \n",
       "| 2016-09-30 | other      |   58136    |  2.3683330 | \n",
       "| 2016-09-30 | rep        | 1015030    |  5.7729481 | \n",
       "| 2016-09-30 | total      | 3892326    |  4.6459502 | \n",
       "| 2016-09-30 | unaf       |  678907    | -0.5842755 | \n",
       "\n",
       "\n"
      ],
      "text/plain": [
       "  date       party2 n       pch       \n",
       "1 2016-09-30 dem    2140253  5.9426294\n",
       "2 2016-09-30 other    58136  2.3683330\n",
       "3 2016-09-30 rep    1015030  5.7729481\n",
       "4 2016-09-30 total  3892326  4.6459502\n",
       "5 2016-09-30 unaf    678907 -0.5842755"
      ]
     },
     "metadata": {},
     "output_type": "display_data"
    }
   ],
   "source": [
    "historical.pch %>% filter(date == '2016-09-30')"
   ]
  },
  {
   "cell_type": "markdown",
   "metadata": {},
   "source": [
    "Democrats and Republicans both saw rises in registrations during this period."
   ]
  },
  {
   "cell_type": "markdown",
   "metadata": {},
   "source": [
    "## Plots included in the story"
   ]
  },
  {
   "cell_type": "markdown",
   "metadata": {},
   "source": [
    "Versions of the following plots were included in the story:"
   ]
  },
  {
   "cell_type": "markdown",
   "metadata": {},
   "source": [
    "### Active, registered voters by party as of January 31 of each year from 2002-2018 (plus Sept. 30, 2018)"
   ]
  },
  {
   "cell_type": "markdown",
   "metadata": {},
   "source": [
    "Here is a plot of active, registered voters by party as of January 31 of each year from 2002 (the first year for which unaffiliated voters were broken out separately) through 2018. Note that registration as of September 30, 2018 is also plotted as the rightmost bar."
   ]
  },
  {
   "cell_type": "code",
   "execution_count": 21,
   "metadata": {},
   "outputs": [
    {
     "data": {
      "image/png": "[encoded data removed]",
      "text/plain": [
       "plot without title"
      ]
     },
     "metadata": {},
     "output_type": "display_data"
    }
   ],
   "source": [
    "options(repr.plot.width = 6, repr.plot.height = 4)\n",
    "\n",
    "historical$party2.f <- factor(historical$party2, \n",
    "                           levels = c('other',  \n",
    "                                      'unaf', 'rep','dem'))\n",
    "\n",
    "print(ggplot(historical %>% filter(year > 2001 & (month == 'January' | year == 2018) & \n",
    "                        party2.f != 'total'), aes(x = date, y = number/1000000, \n",
    "                                                             group = party2.f, fill = party2.f)) +\n",
    "  geom_bar(stat='identity') + labs(x = '', y = '', \n",
    "                                   title = \"Maryland's registered voters on Jan. 31 of each year\\nplus Sept. 30 for 2018\") +\n",
    "  scale_x_date(date_breaks = \"year\", date_minor_breaks = \"1 week\", \n",
    "               date_labels = \"%y\") +\n",
    "  scale_y_continuous(breaks = seq(0, 4,.5), limits = c(0,4), expand = c(0,0)) +\n",
    "  scale_fill_manual(values = c('#E5C1C1', '#6B52A2', '#B82B30','#007DBE' )) +\n",
    "  theme(panel.background = element_blank(),\n",
    "        panel.grid.major = element_blank(),\n",
    "        panel.grid.minor = element_blank(),\n",
    "        axis.text = element_text(size = 10), \n",
    "        plot.title = element_text(size = 12, face = \"bold\"),\n",
    "        axis.ticks.x = element_blank(),\n",
    "        axis.line.x = element_line(),\n",
    "        legend.title = element_blank()))"
   ]
  },
  {
   "cell_type": "markdown",
   "metadata": {},
   "source": [
    "### Active, registered voters by party for each county as of September 30, 2018"
   ]
  },
  {
   "cell_type": "markdown",
   "metadata": {},
   "source": [
    "Here is a plot of active, registered voters by party for each county as of September 30, 2018."
   ]
  },
  {
   "cell_type": "code",
   "execution_count": 21,
   "metadata": {},
   "outputs": [
    {
     "data": {
      "image/png": "[encoded data removed]",
      "text/plain": [
       "plot without title"
      ]
     },
     "metadata": {},
     "output_type": "display_data"
    }
   ],
   "source": [
    "options(repr.plot.width = 6, repr.plot.height = 6)\n",
    "\n",
    "totals.m <- melt(totals %>% mutate(other_perc = grn_perc + lib_perc + oth_perc, \n",
    "                                other = grn + lib + oth) %>% \n",
    "                         select(-grn_perc, -lib_perc, -oth_perc), id.vars = c('county', 'date'))\n",
    "totals.m$party.f <- factor(totals.m$variable, \n",
    "                                levels = c('rep_perc', 'other_perc', 'unaf_perc',  \n",
    "                                           'dem_perc'))\n",
    "\n",
    "sep.totals <- totals.m %>% filter(date == '2018-09-30')\n",
    "sep.dem <- sep.totals %>% filter(variable == 'dem_perc')\n",
    "\n",
    "sep.totals$county.f <- factor(sep.totals$county, \n",
    "                              levels = sep.dem$county[order(sep.dem$value)])\n",
    "\n",
    "print(ggplot(sep.totals %>% filter(grepl('perc', variable))) + \n",
    "  geom_bar(aes(x = county.f, y = value, fill = party.f), stat=\"identity\") +\n",
    "  coord_flip() + scale_fill_manual(values = c('#eb212e', '#df65b0', '#6a51a3', '#3e83c2')) + \n",
    "  theme(panel.grid.minor.x = element_blank(), plot.title = element_text(face = \"bold\"),\n",
    "                                          axis.ticks = element_blank(),\n",
    "                                          axis.text = element_text(size = 12),\n",
    "                                          panel.background = element_blank(),\n",
    "                                          legend.title = element_blank()) + labs(x = '', \n",
    "                                                                                 y= '', title = 'Maryland voter registration as of Sept. 30, 2018'))\n",
    "\n"
   ]
  },
  {
   "cell_type": "markdown",
   "metadata": {},
   "source": [
    "Note: the story also includes some historical information on voter reigstration in Maryland prior to the year 2000 (the earliest year for which the State Board of Elections produces monthly reports). For example, the following passage:\n",
    ">\"In 1978, the Maryland electorate was 70 percent Democratic, 23 percent Republican and 7 percent independent. Most of the shift appears to have been among Democrats, as Republican registration has remained in a narrow band between 23 percent and 27 percent since at least 1962.\"\n",
    "\n",
    "This information was provided by political scientist Todd Eberly, citing a book by former Maryland Secretary of State and executive in residence at the University of Baltimore’s School of Public and International Affairs [John T. Willis](http://www.ubalt.edu/cpa/faculty/alphabetical-directory/john-t-willis.cfm), \"Presidential Elections in Maryland.\""
   ]
  }
 ],
 "metadata": {
  "kernelspec": {
   "display_name": "R",
   "language": "R",
   "name": "ir"
  },
  "language_info": {
   "codemirror_mode": "r",
   "file_extension": ".r",
   "mimetype": "text/x-r-source",
   "name": "R",
   "pygments_lexer": "r",
   "version": "3.5.1"
  }
 },
 "nbformat": 4,
 "nbformat_minor": 2
}
